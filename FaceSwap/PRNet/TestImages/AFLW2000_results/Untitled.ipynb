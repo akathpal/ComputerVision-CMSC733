{
 "cells": [
  {
   "cell_type": "code",
   "execution_count": 6,
   "metadata": {},
   "outputs": [
    {
     "name": "stdout",
     "output_type": "stream",
     "text": [
      "{'__globals__': [], 'vertices': array([[142.32535921, 144.39598021, 111.34557343],\n",
      "       [142.77457078, 143.63031877, 113.11688232],\n",
      "       [141.86717601, 144.31002269, 113.2264328 ],\n",
      "       ...,\n",
      "       [246.75960909, 375.17182492, 119.235466  ],\n",
      "       [248.18281681, 374.66045658, 117.50222015],\n",
      "       [248.89571964, 374.25676718, 117.23460388]]), '__header__': 'MATLAB 5.0 MAT-file Platform: posix, Created on: Sat Mar 16 15:37:28 2019', 'colors': array([[156, 116,  90],\n",
      "       [137,  97,  71],\n",
      "       [156, 116,  90],\n",
      "       ...,\n",
      "       [197, 132,  94],\n",
      "       [195, 130,  92],\n",
      "       [200, 135,  97]], dtype=uint8), '__version__': '1.0', 'triangles': array([[    1,   247,   246],\n",
      "       [    1,     2,   247],\n",
      "       [    2,   248,   247],\n",
      "       ...,\n",
      "       [43804, 43805, 43865],\n",
      "       [43805, 43866, 43865],\n",
      "       [43805, 43806, 43866]], dtype=int32)}\n"
     ]
    }
   ],
   "source": [
    "import scipy.io\n",
    "mat = scipy.io.loadmat('image00050_mesh.mat')\n",
    "print(mat)"
   ]
  },
  {
   "cell_type": "code",
   "execution_count": 11,
   "metadata": {},
   "outputs": [
    {
     "data": {
      "text/plain": [
       "(43867, 3)"
      ]
     },
     "execution_count": 11,
     "metadata": {},
     "output_type": "execute_result"
    }
   ],
   "source": [
    "# import cv2\n",
    "# import matplotlib.pyplot as plt\n",
    "# %matplotlib inline\n",
    "\n",
    "# plt.imshow(mat)\n",
    "mat['colors'].shape"
   ]
  },
  {
   "cell_type": "code",
   "execution_count": null,
   "metadata": {},
   "outputs": [],
   "source": []
  }
 ],
 "metadata": {
  "kernelspec": {
   "display_name": "Python 2",
   "language": "python",
   "name": "python2"
  },
  "language_info": {
   "codemirror_mode": {
    "name": "ipython",
    "version": 2
   },
   "file_extension": ".py",
   "mimetype": "text/x-python",
   "name": "python",
   "nbconvert_exporter": "python",
   "pygments_lexer": "ipython2",
   "version": "2.7.12"
  }
 },
 "nbformat": 4,
 "nbformat_minor": 2
}
