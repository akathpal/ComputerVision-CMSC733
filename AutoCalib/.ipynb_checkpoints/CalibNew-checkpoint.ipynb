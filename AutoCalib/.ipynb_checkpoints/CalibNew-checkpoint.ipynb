{
 "cells": [
  {
   "cell_type": "code",
   "execution_count": 2,
   "metadata": {},
   "outputs": [],
   "source": [
    "import numpy as np\n",
    "import cv2\n",
    "import glob\n",
    "import matplotlib.pyplot as plt\n",
    "from scipy import optimize as opt\n",
    "%matplotlib inline"
   ]
  },
  {
   "cell_type": "code",
   "execution_count": 7,
   "metadata": {},
   "outputs": [],
   "source": [
    "def estimateHomographies(images,Nx,Ny):\n",
    "    \n",
    "    criteria = (cv2.TERM_CRITERIA_EPS + cv2.TERM_CRITERIA_MAX_ITER, 30, 0.001)\n",
    "    objp = np.zeros((Ny*Nx,3), np.float32)\n",
    "    objp[:,:2] = np.mgrid[0:Nx,0:Ny].T.reshape(-1,2)\n",
    "    \n",
    "    objpoints = [] # 3d point in model plane.\n",
    "    imgpoints = [] # 2d points in image plane.\n",
    "    homography =[]\n",
    "    \n",
    "\n",
    "    for image in images:\n",
    "        img = cv2.imread(image)\n",
    "        gray = cv2.cvtColor(img,cv2.COLOR_BGR2GRAY)\n",
    "\n",
    "        # Finding ChessBoard Corners\n",
    "        ret, corners = cv2.findChessboardCorners(gray, (Nx,Ny),None)\n",
    "\n",
    "        if ret == True:\n",
    "            objpoints.append(objp)\n",
    "            corners=corners.reshape(-1,2)\n",
    "            assert corners.shape == objp[:, :-1].shape, \"No. of Points not matched\"\n",
    "            # Refining the points\n",
    "            corners2 = cv2.cornerSubPix(gray,corners,(11,11),(-1,-1),criteria)\n",
    "            imgpoints.append(corners2)\n",
    "            H,_ = cv2.findHomography(objp,corners2)\n",
    "            homography.append(H)\n",
    "    return homography,imgpoints,objpoints"
   ]
  },
  {
   "cell_type": "code",
   "execution_count": 8,
   "metadata": {},
   "outputs": [],
   "source": [
    "images = sorted(glob.glob('Calibration_Imgs/*.jpg'))\n",
    "\n",
    "#Pattern boxes in x and y direction excluding outer boundary\n",
    "Nx = 9\n",
    "Ny = 6\n",
    "\n",
    "homographies,imgpoints,objpoints = estimateHomographies(images,Nx,Ny)"
   ]
  },
  {
   "cell_type": "code",
   "execution_count": 14,
   "metadata": {},
   "outputs": [],
   "source": [
    "def minimizer_func(initial_guess, X, Y, h, N):\n",
    "    # X : normalized object points flattened\n",
    "    # Y : normalized image points flattened\n",
    "    # h : homography flattened\n",
    "    # N : number of points\n",
    "    # \n",
    "    x_j = X.reshape(N, 2)\n",
    "    # Y = Y.reshape(N, 2)\n",
    "    # h = h.reshape(3, 3)\n",
    "    projected = [0 for i in xrange(2*N)]\n",
    "    for j in range(N):\n",
    "        x, y = x_j[j]\n",
    "        w = h[6]*x + h[7]*y + h[8]\n",
    "        # pts = np.matmul(np.array([ [h[0], h[1], h[2]] , [h[3], h[4], h[5]]]), np.array([ [x] , [y] , [1.]]))\n",
    "        # pts = pts/float(w)\n",
    "        # u, v = pts[0][0], pts[1][0]\n",
    "        projected[2*j] = (h[0] * x + h[1] * y + h[2]) / w\n",
    "        projected[2*j + 1] = (h[3] * x + h[4] * y + h[5]) / w\n",
    "\n",
    "    # return projected\n",
    "    return (np.abs(projected - Y))**2"
   ]
  },
  {
   "cell_type": "code",
   "execution_count": 15,
   "metadata": {},
   "outputs": [],
   "source": [
    "def jac_function(initial_guess, X, Y, h, N):\n",
    "    x_j = X.reshape(N, 2)\n",
    "    jacobian = np.zeros( (2*N, 9) , np.float64)\n",
    "    for j in range(N):\n",
    "        x, y = x_j[j]\n",
    "        sx = np.float64(h[0]*x + h[1]*y + h[2])\n",
    "        sy = np.float64(h[3]*x + h[4]*y + h[5])\n",
    "        w = np.float64(h[6]*x + h[7]*y + h[8])\n",
    "        jacobian[2*j] = np.array([x/w, y/w, 1/w, 0, 0, 0, -sx*x/w**2, -sx*y/w**2, -sx/w**2])\n",
    "        jacobian[2*j + 1] = np.array([0, 0, 0, x/w, y/w, 1/w, -sy*x/w**2, -sy*y/w**2, -sy/w**2])\n",
    "\n",
    "    return jacobian\n"
   ]
  },
  {
   "cell_type": "code",
   "execution_count": 17,
   "metadata": {},
   "outputs": [],
   "source": [
    "def refine_homographies(H, image_points,object_points, skip=False):\n",
    "    if skip:\n",
    "        return H\n",
    "\n",
    "    N = object_points.shape[0]\n",
    "    X = object_points.flatten()\n",
    "    Y = image_points.flatten()\n",
    "    h = H.flatten()\n",
    "    h_prime = opt.least_squares(fun=minimizer_func, x0=h, jac=jac_function, method=\"lm\" , args=[X, Y, h, N], verbose=0)\n",
    "\n",
    "    \n",
    "    if h_prime.success:\n",
    "        H =  h_prime.x.reshape(3, 3)\n",
    "    H = H/H[2, 2]\n",
    "    return H"
   ]
  },
  {
   "cell_type": "code",
   "execution_count": 18,
   "metadata": {},
   "outputs": [
    {
     "ename": "NameError",
     "evalue": "global name 'opt' is not defined",
     "output_type": "error",
     "traceback": [
      "\u001b[0;31m---------------------------------------------------------------------------\u001b[0m",
      "\u001b[0;31mNameError\u001b[0m                                 Traceback (most recent call last)",
      "\u001b[0;32m<ipython-input-18-fada9fbf8115>\u001b[0m in \u001b[0;36m<module>\u001b[0;34m()\u001b[0m\n\u001b[1;32m      1\u001b[0m \u001b[0mH_r\u001b[0m \u001b[0;34m=\u001b[0m \u001b[0;34m[\u001b[0m\u001b[0;34m]\u001b[0m\u001b[0;34m\u001b[0m\u001b[0m\n\u001b[1;32m      2\u001b[0m \u001b[0;32mfor\u001b[0m \u001b[0mi\u001b[0m \u001b[0;32min\u001b[0m \u001b[0mrange\u001b[0m\u001b[0;34m(\u001b[0m\u001b[0mlen\u001b[0m\u001b[0;34m(\u001b[0m\u001b[0mhomographies\u001b[0m\u001b[0;34m)\u001b[0m\u001b[0;34m)\u001b[0m\u001b[0;34m:\u001b[0m\u001b[0;34m\u001b[0m\u001b[0m\n\u001b[0;32m----> 3\u001b[0;31m     \u001b[0mh_opt\u001b[0m \u001b[0;34m=\u001b[0m \u001b[0mrefine_homographies\u001b[0m\u001b[0;34m(\u001b[0m\u001b[0mhomographies\u001b[0m\u001b[0;34m[\u001b[0m\u001b[0mi\u001b[0m\u001b[0;34m]\u001b[0m\u001b[0;34m,\u001b[0m\u001b[0mimgpoints\u001b[0m\u001b[0;34m[\u001b[0m\u001b[0mi\u001b[0m\u001b[0;34m]\u001b[0m\u001b[0;34m,\u001b[0m\u001b[0mobjpoints\u001b[0m\u001b[0;34m[\u001b[0m\u001b[0mi\u001b[0m\u001b[0;34m]\u001b[0m\u001b[0;34m)\u001b[0m\u001b[0;34m\u001b[0m\u001b[0m\n\u001b[0m\u001b[1;32m      4\u001b[0m     \u001b[0;32mprint\u001b[0m\u001b[0;34m(\u001b[0m\u001b[0;34m\"homographies {} \\n\"\u001b[0m\u001b[0;34m.\u001b[0m\u001b[0mformat\u001b[0m\u001b[0;34m(\u001b[0m\u001b[0mi\u001b[0m\u001b[0;34m)\u001b[0m\u001b[0;34m,\u001b[0m\u001b[0mhomographies\u001b[0m\u001b[0;34m[\u001b[0m\u001b[0mi\u001b[0m\u001b[0;34m]\u001b[0m\u001b[0;34m)\u001b[0m\u001b[0;34m\u001b[0m\u001b[0m\n\u001b[1;32m      5\u001b[0m     \u001b[0;32mprint\u001b[0m\u001b[0;34m(\u001b[0m\u001b[0;34m\"Opt homographies {} \\n\"\u001b[0m\u001b[0;34m.\u001b[0m\u001b[0mformat\u001b[0m\u001b[0;34m(\u001b[0m\u001b[0mi\u001b[0m\u001b[0;34m)\u001b[0m\u001b[0;34m,\u001b[0m\u001b[0mh_opt\u001b[0m\u001b[0;34m)\u001b[0m\u001b[0;34m\u001b[0m\u001b[0m\n",
      "\u001b[0;32m<ipython-input-17-1f415cc14811>\u001b[0m in \u001b[0;36mrefine_homographies\u001b[0;34m(H, image_points, object_points, skip)\u001b[0m\n\u001b[1;32m      7\u001b[0m     \u001b[0mY\u001b[0m \u001b[0;34m=\u001b[0m \u001b[0mimage_points\u001b[0m\u001b[0;34m.\u001b[0m\u001b[0mflatten\u001b[0m\u001b[0;34m(\u001b[0m\u001b[0;34m)\u001b[0m\u001b[0;34m\u001b[0m\u001b[0m\n\u001b[1;32m      8\u001b[0m     \u001b[0mh\u001b[0m \u001b[0;34m=\u001b[0m \u001b[0mH\u001b[0m\u001b[0;34m.\u001b[0m\u001b[0mflatten\u001b[0m\u001b[0;34m(\u001b[0m\u001b[0;34m)\u001b[0m\u001b[0;34m\u001b[0m\u001b[0m\n\u001b[0;32m----> 9\u001b[0;31m     \u001b[0mh_prime\u001b[0m \u001b[0;34m=\u001b[0m \u001b[0mopt\u001b[0m\u001b[0;34m.\u001b[0m\u001b[0mleast_squares\u001b[0m\u001b[0;34m(\u001b[0m\u001b[0mfun\u001b[0m\u001b[0;34m=\u001b[0m\u001b[0mminimizer_func\u001b[0m\u001b[0;34m,\u001b[0m \u001b[0mx0\u001b[0m\u001b[0;34m=\u001b[0m\u001b[0mh\u001b[0m\u001b[0;34m,\u001b[0m \u001b[0mjac\u001b[0m\u001b[0;34m=\u001b[0m\u001b[0mjac_function\u001b[0m\u001b[0;34m,\u001b[0m \u001b[0mmethod\u001b[0m\u001b[0;34m=\u001b[0m\u001b[0;34m\"lm\"\u001b[0m \u001b[0;34m,\u001b[0m \u001b[0margs\u001b[0m\u001b[0;34m=\u001b[0m\u001b[0;34m[\u001b[0m\u001b[0mX\u001b[0m\u001b[0;34m,\u001b[0m \u001b[0mY\u001b[0m\u001b[0;34m,\u001b[0m \u001b[0mh\u001b[0m\u001b[0;34m,\u001b[0m \u001b[0mN\u001b[0m\u001b[0;34m]\u001b[0m\u001b[0;34m,\u001b[0m \u001b[0mverbose\u001b[0m\u001b[0;34m=\u001b[0m\u001b[0;36m0\u001b[0m\u001b[0;34m)\u001b[0m\u001b[0;34m\u001b[0m\u001b[0m\n\u001b[0m\u001b[1;32m     10\u001b[0m \u001b[0;34m\u001b[0m\u001b[0m\n\u001b[1;32m     11\u001b[0m \u001b[0;34m\u001b[0m\u001b[0m\n",
      "\u001b[0;31mNameError\u001b[0m: global name 'opt' is not defined"
     ]
    }
   ],
   "source": [
    "H_r = []\n",
    "for i in range(len(homographies)):\n",
    "    h_opt = refine_homographies(homographies[i],imgpoints[i],objpoints[i])\n",
    "    print(\"homographies {} \\n\".format(i),homographies[i])\n",
    "    print(\"Opt homographies {} \\n\".format(i),h_opt)\n",
    "    H_r.append(h_opt)\n"
   ]
  },
  {
   "cell_type": "code",
   "execution_count": null,
   "metadata": {},
   "outputs": [],
   "source": []
  }
 ],
 "metadata": {
  "kernelspec": {
   "display_name": "Python 2",
   "language": "python",
   "name": "python2"
  },
  "language_info": {
   "codemirror_mode": {
    "name": "ipython",
    "version": 2
   },
   "file_extension": ".py",
   "mimetype": "text/x-python",
   "name": "python",
   "nbconvert_exporter": "python",
   "pygments_lexer": "ipython2",
   "version": "2.7.12"
  }
 },
 "nbformat": 4,
 "nbformat_minor": 2
}
