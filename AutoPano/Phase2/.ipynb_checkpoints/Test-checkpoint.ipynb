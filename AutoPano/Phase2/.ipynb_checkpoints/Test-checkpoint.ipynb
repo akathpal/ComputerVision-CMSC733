{
 "cells": [
  {
   "cell_type": "code",
   "execution_count": 2,
   "metadata": {},
   "outputs": [],
   "source": [
    "import pickle\n",
    "import numpy as np\n",
    "\n",
    "def extract(data):\n",
    "    f = open(data, 'rb')\n",
    "    out = pickle.load(f)\n",
    "    features = np.array(out['features'])\n",
    "    labels = np.array(out['labels'])\n",
    "    f.close()\n",
    "    return features,labels"
   ]
  },
  {
   "cell_type": "code",
   "execution_count": 3,
   "metadata": {},
   "outputs": [],
   "source": [
    "features,labels=extract('training.pkl')\n",
    "print(labels[0])\n",
    "t = labels[0].reshape((1,8))\n",
    "print(t.shape)\n",
    "print(t[0].shape)\n",
    "print(features[0])"
   ]
  },
  {
   "cell_type": "code",
   "execution_count": null,
   "metadata": {},
   "outputs": [],
   "source": [
    "image,features,corners = extract('unsup.pkl')"
   ]
  },
  {
   "cell_type": "code",
   "execution_count": null,
   "metadata": {},
   "outputs": [],
   "source": [
    "print(image[0].shape)\n",
    "print(features[0].shape)\n",
    "print(corners[0].shape)"
   ]
  }
 ],
 "metadata": {
  "kernelspec": {
   "display_name": "Python 2",
   "language": "python",
   "name": "python2"
  },
  "language_info": {
   "codemirror_mode": {
    "name": "ipython",
    "version": 2
   },
   "file_extension": ".py",
   "mimetype": "text/x-python",
   "name": "python",
   "nbconvert_exporter": "python",
   "pygments_lexer": "ipython2",
   "version": "2.7.15"
  }
 },
 "nbformat": 4,
 "nbformat_minor": 2
}
