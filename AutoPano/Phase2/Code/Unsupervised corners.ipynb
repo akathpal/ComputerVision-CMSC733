{
 "cells": [
  {
   "cell_type": "code",
   "execution_count": 1,
   "metadata": {},
   "outputs": [],
   "source": [
    "import cv2\n",
    "import numpy as np\n",
    "from glob import glob\n",
    "from matplotlib import pyplot as plt"
   ]
  },
  {
   "cell_type": "code",
   "execution_count": 2,
   "metadata": {},
   "outputs": [],
   "source": [
    "def patch_gen(img_orig,patchSize,r):\n",
    "#     print(len(img_orig.shape))\n",
    "    if(len(img_orig.shape)==3):\n",
    "        img = cv2.cvtColor(img_orig,cv2.COLOR_RGB2GRAY)\n",
    "    else:\n",
    "        img = img_orig\n",
    "#     plt.imshow(img, cmap='gray')\n",
    "#     print(img.shape[1])\n",
    "    x = np.random.randint(r, img.shape[1]-r-patchSize)  \n",
    "    y = np.random.randint(r, img.shape[0]-r-patchSize) \n",
    "\n",
    "    p1 = (x,y)\n",
    "    p2 = (patchSize+x, y)\n",
    "    p3 = (patchSize+x, patchSize+y)\n",
    "    p4 = (x, patchSize+y)\n",
    "    src = [p1, p2, p3, p4]\n",
    "    \n",
    "#     # Printing and plotting Source Points\n",
    "#     print(src)\n",
    "#     plt.figure()\n",
    "#     src_image = img_orig.copy()\n",
    "#     cv2.polylines(src_image, np.int64([src]), 1, (255,0,0),2)\n",
    "#     plt.imshow(src_image)\n",
    "    \n",
    "    dst = []\n",
    "    for pt in src:\n",
    "        dst.append((pt[0]+np.random.randint(-r, r), pt[1]+np.random.randint(-r, r)))\n",
    "    \n",
    "#     #Printing and Plotting Destination Points\n",
    "#     print(dst)\n",
    "#     plt.figure()\n",
    "#     dst_image = img_orig.copy()\n",
    "#     cv2.polylines(dst_image, np.int64([dst]), 1, (255,0,0),2)\n",
    "#     plt.imshow(dst_image)\n",
    "\n",
    "    H = cv2.getPerspectiveTransform(np.float32(src), np.float32(dst))\n",
    "    H_inv = np.linalg.inv(H)\n",
    "    warpImg = cv2.warpPerspective(img, H_inv, (img.shape[1],img.shape[0]))\n",
    "    \n",
    "#     # Plotting Warped Image\n",
    "#     tempImg = warpImg.copy()\n",
    "#     cv2.polylines(tempImg, np.int32([src]), 1, (0),2)\n",
    "#     plt.figure()\n",
    "#     plt.imshow(tempImg, cmap='gray')\n",
    "#     plt.show()\n",
    "    \n",
    "    patch1 = img[y:y + patchSize, x:x + patchSize]\n",
    "    patch2 = warpImg[y:y + patchSize, x:x + patchSize]\n",
    "    \n",
    "    \n",
    "#     plt.figure()\n",
    "#     plt.imshow(patch1, cmap='gray')\n",
    "#     plt.show()\n",
    "#     plt.figure()\n",
    "#     plt.imshow(patch2, cmap='gray')\n",
    "#     plt.show()\n",
    "#     images = np.dstack(img_orig)\n",
    "    imgData = np.dstack((patch1, patch2))\n",
    "    hData = np.subtract(np.array(dst), np.array(src))\n",
    "    return imgData,src"
   ]
  },
  {
   "cell_type": "code",
   "execution_count": 4,
   "metadata": {},
   "outputs": [],
   "source": [
    "# trainImg = glob(\"./Data/Train/*.jpg\")\n",
    "# valImg = glob(\"./Data/Val/*.jpg\")\n",
    "Basepath = \"./Data/Train/\"\n",
    "# print(\"No. of Training Images = \" + str(len(trainImg)))\n",
    "# print(\"No. of Validation Images = \" + str(len(valImg)))\n",
    "\n",
    "\n",
    "Patch=[]\n",
    "Corner = []\n",
    "size=(640,480)\n",
    "for i in range(5000): \n",
    "    trainImg = Basepath + str(i+1)+\".jpg\"\n",
    "    img = plt.imread(trainImg)\n",
    "    img = cv2.resize(img,size)\n",
    "    patches,src = patch_gen(img,128,32)\n",
    "    Patch.append(patches)\n",
    "    Corner.append(src)"
   ]
  },
  {
   "cell_type": "code",
   "execution_count": 5,
   "metadata": {},
   "outputs": [],
   "source": [
    "import pickle\n",
    "\n",
    "training = {'Patches':Patch,'Corners':Corner}\n",
    "pickle.dump(training, open(\"unsup.pkl\", \"wb\"))"
   ]
  },
  {
   "cell_type": "code",
   "execution_count": null,
   "metadata": {},
   "outputs": [],
   "source": []
  }
 ],
 "metadata": {
  "kernelspec": {
   "display_name": "Python 2",
   "language": "python",
   "name": "python2"
  },
  "language_info": {
   "codemirror_mode": {
    "name": "ipython",
    "version": 2
   },
   "file_extension": ".py",
   "mimetype": "text/x-python",
   "name": "python",
   "nbconvert_exporter": "python",
   "pygments_lexer": "ipython2",
   "version": "2.7.15"
  }
 },
 "nbformat": 4,
 "nbformat_minor": 2
}
